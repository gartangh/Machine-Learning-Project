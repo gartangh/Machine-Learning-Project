{
 "cells": [
  {
   "cell_type": "markdown",
   "metadata": {},
   "source": [
    "# Animal Classification"
   ]
  },
  {
   "cell_type": "markdown",
   "metadata": {},
   "source": [
    "## 1. Initialization"
   ]
  },
  {
   "cell_type": "code",
   "execution_count": 75,
   "metadata": {},
   "outputs": [
    {
     "name": "stdout",
     "output_type": "stream",
     "text": [
      "Number of classes = 11\n",
      "0: bobcat\n",
      "1: chihuahua\n",
      "2: collie\n",
      "3: dalmatian\n",
      "4: german_shepherd\n",
      "5: leopard\n",
      "6: lion\n",
      "7: persian_cat\n",
      "8: siamese_cat\n",
      "9: tiger\n",
      "10: wolf\n"
     ]
    }
   ],
   "source": [
    "# imports\n",
    "import cv2, features, glob, helpers, os, pickle, sklearn, sys, time\n",
    "\n",
    "import matplotlib.pyplot as plt\n",
    "%matplotlib notebook\n",
    "import numpy as np\n",
    "import pandas as pd\n",
    "\n",
    "from sklearn.decomposition import KernelPCA, PCA\n",
    "from sklearn.discriminant_analysis import LinearDiscriminantAnalysis\n",
    "from sklearn.metrics import accuracy_score, classification_report, confusion_matrix, log_loss\n",
    "from sklearn.model_selection import cross_val_score, learning_curve, GridSearchCV, train_test_split\n",
    "from sklearn.pipeline import Pipeline\n",
    "from sklearn.preprocessing import LabelEncoder, Normalizer\n",
    "from sklearn.svm import SVC\n",
    "from sklearn.feature_selection import RFECV\n",
    "\n",
    "# define constants\n",
    "DATA_BASE_PATH = './'\n",
    "OUTPUT_PATH='./'\n",
    "\n",
    "DATA_TRAIN_PATH = os.path.join(DATA_BASE_PATH,'train')\n",
    "DATA_TEST_PATH = os.path.join(DATA_BASE_PATH,'test')\n",
    "\n",
    "FEATURE_BASE_PATH = os.path.join(OUTPUT_PATH,'features')\n",
    "FEATURE_TRAIN_PATH = os.path.join(FEATURE_BASE_PATH,'features_train')\n",
    "FEATURE_TEST_PATH = os.path.join(FEATURE_BASE_PATH,'features_test')\n",
    "\n",
    "PREDICTION_PATH = os.path.join(OUTPUT_PATH,'predictions')\n",
    "\n",
    "FILEPATTERN_DESCRIPTOR_TRAIN = os.path.join(FEATURE_TRAIN_PATH,'train_features_{}.pkl')\n",
    "FILEPATTERN_DESCRIPTOR_TEST = os.path.join(FEATURE_TEST_PATH,'test_features_{}.pkl')\n",
    "\n",
    "helpers.createPath(FEATURE_BASE_PATH)\n",
    "helpers.createPath(FEATURE_TRAIN_PATH)\n",
    "helpers.createPath(FEATURE_TEST_PATH)\n",
    "helpers.createPath(PREDICTION_PATH)\n",
    "\n",
    "# initialize variables\n",
    "folder_paths = glob.glob(os.path.join(DATA_TRAIN_PATH, '*'))\n",
    "label_strings = np.sort(np.array([os.path.basename(path) for path in folder_paths]))\n",
    "n_classes = label_strings.shape[0]\n",
    "print(f'Number of classes = {n_classes}')\n",
    "[print(f'{i}: {label_strings[i]}') for i in range(len(label_strings))]\n",
    "\n",
    "train_paths = dict((label_string, helpers.getImgPaths(os.path.join(DATA_TRAIN_PATH,label_string))) for label_string in label_strings)\n",
    "test_paths = helpers.getImgPaths(DATA_TEST_PATH)"
   ]
  },
  {
   "cell_type": "markdown",
   "metadata": {},
   "source": [
    "## Preprocessing"
   ]
  },
  {
   "cell_type": "code",
   "execution_count": 2,
   "metadata": {},
   "outputs": [],
   "source": [
    "# remove background\n",
    "# mirror"
   ]
  },
  {
   "cell_type": "markdown",
   "metadata": {},
   "source": [
    "## 2. Feature Extraction"
   ]
  },
  {
   "cell_type": "code",
   "execution_count": 76,
   "metadata": {},
   "outputs": [],
   "source": [
    "def extract_features():\n",
    "    # descriptors\n",
    "    descriptor_dict={'daisy':features.extractDAISYCallback, # SIFT replacement, very fast, can be computed dense if necessary\n",
    "                     'orb':features.extractORBCallback, # another fast SIFT replacement, oriented BRIEF w. FAST keypoints  \n",
    "                     'freak':features.extractFREAKCallback, # biologically motivated descriptor\n",
    "                     'lucid':features.extractLUCIDCallback,  \n",
    "                     'vgg':features.extractVGGCallback, # Trained as proposed by VGG lab, don't confuse it with VGG-Net features\n",
    "                     'boost_desc':features.extractBoostDescCallback} # Image descriptor learned with boosting\n",
    "          \n",
    "    if features.checkForSIFT():\n",
    "        descriptor_dict['sift'] = features.extractSIFTCallback # One descriptor to rule them all, unfortunately patented\n",
    "                 \n",
    "    if features.checkForSURF():\n",
    "        descriptor_dict['surf'] = features.extractSURFCallback\n",
    "    \n",
    "    # train features\n",
    "    train_descriptor_dict = dict((key,value) for (key,value) in descriptor_dict.items() if not os.path.isfile(FILEPATTERN_DESCRIPTOR_TRAIN.format(key)))\n",
    "    if len(train_descriptor_dict) > 0: \n",
    "        train_features = []\n",
    "        train_labels = []\n",
    "    \n",
    "        train_features_by_descriptor = dict((key,[]) for (key,value) in train_descriptor_dict.items())\n",
    "    \n",
    "        for label_string in label_strings:\n",
    "            print(f'extracting train features for class {label_string}')\n",
    "            extracted_features = features.extractFeatures(train_paths[label_string], train_descriptor_dict, label_string)\n",
    "\n",
    "            # append descriptors of corresponding label to correct descriptor list \n",
    "            for key in train_features_by_descriptor.keys():\n",
    "                train_features_by_descriptor[key]+=extracted_features[key]\n",
    "  \n",
    "        for descriptor_key in train_features_by_descriptor.keys():\n",
    "            with open(FILEPATTERN_DESCRIPTOR_TRAIN.format(descriptor_key),'wb') as pkl_file_train:\n",
    "                pickle.dump(train_features_by_descriptor[descriptor_key], pkl_file_train, protocol=pickle.HIGHEST_PROTOCOL)\n",
    "\n",
    "    # test features\n",
    "    test_descriptor_dict=dict((key,value) for (key,value) in descriptor_dict.items() if not os.path.isfile(FILEPATTERN_DESCRIPTOR_TEST.format(key)))\n",
    "    if len(test_descriptor_dict) > 0: \n",
    "        test_features = []\n",
    "    \n",
    "        print('extracting test features:')\n",
    "        test_features_by_descriptor = features.extractFeatures(test_paths,test_descriptor_dict, None) \n",
    "    \n",
    "        for descriptor_key in test_features_by_descriptor.keys():\n",
    "            with open(FILEPATTERN_DESCRIPTOR_TEST.format(descriptor_key),'wb') as pkl_file_test:\n",
    "                pickle.dump(test_features_by_descriptor[descriptor_key], pkl_file_test, protocol=pickle.HIGHEST_PROTOCOL)\n",
    "                \n",
    "def load_pkl_files(descriptors_desired, codebook_sizes):\n",
    "    print('\\nLoading pkl files ...')    \n",
    "    # train features\n",
    "    clustered_codebooks = []\n",
    "    train_feature_dict = {}\n",
    "    for index, descriptor in enumerate(descriptors_desired):\n",
    "        print(descriptor)\n",
    "        with open(FILEPATTERN_DESCRIPTOR_TRAIN.format(descriptor),'rb') as pkl_file_train:\n",
    "            train_feature_dict[descriptor] = pickle.load(pkl_file_train)\n",
    "        clustered_codebooks.append(helpers.createCodebook(train_feature_dict[descriptor], codebook_size=codebook_sizes[index]))\n",
    "\n",
    "    n_encoded_images_train = len(train_feature_dict[descriptors_desired[0]])\n",
    "        \n",
    "    train_data=[]\n",
    "    train_labels=[]\n",
    "    for i in range(n_encoded_images_train):\n",
    "        image_data = []\n",
    "        for index, descriptor in enumerate(descriptors_desired):            \n",
    "            bow_feature_vector = helpers.encodeImage(train_feature_dict[descriptor][i].data, clustered_codebooks[index])\n",
    "            image_data = np.concatenate((image_data, bow_feature_vector), axis=0)\n",
    "\n",
    "        train_data.append(image_data)\n",
    "        train_labels.append(train_feature_dict[descriptors_desired[0]][i].label)\n",
    "\n",
    "    print(f'Number of encoded train images: {n_encoded_images_train}')\n",
    "    \n",
    "    # test features\n",
    "    test_feature_dict = {}\n",
    "    for descriptor in descriptors_desired:\n",
    "        with open(FILEPATTERN_DESCRIPTOR_TEST.format(descriptor),'rb') as pkl_file_test:\n",
    "            test_feature_dict[descriptor] = pickle.load(pkl_file_test)\n",
    "\n",
    "    n_encoded_images_test = len(test_feature_dict[descriptors_desired[0]])        \n",
    "    \n",
    "    test_data=[]\n",
    "    for i in range(n_encoded_images_test):\n",
    "        image_data = []\n",
    "        for index, descriptor in enumerate(descriptors_desired):\n",
    "            bow_feature_vector = helpers.encodeImage(test_feature_dict[descriptor][i].data, clustered_codebooks[index])\n",
    "            image_data = np.concatenate((image_data, bow_feature_vector), axis=0)\n",
    "\n",
    "        test_data.append(image_data)\n",
    "        \n",
    "    print(f'Number of encoded test images: {n_encoded_images_test}')\n",
    "        \n",
    "    return train_data, train_labels, test_data\n",
    "\n",
    "def load_pkl_files_FV(descriptors_desired, mixture_sizes):\n",
    "    print('\\nLoading pkl files ...')    \n",
    "    # train features\n",
    "    clustered_mixtures = []\n",
    "    train_feature_dict = {}\n",
    "    for index, descriptor in enumerate(descriptors_desired):\n",
    "        print(descriptor)\n",
    "        with open(FILEPATTERN_DESCRIPTOR_TRAIN.format(descriptor),'rb') as pkl_file_train:\n",
    "            train_feature_dict[descriptor] = pickle.load(pkl_file_train)\n",
    "        clustered_mixtures.append(helpers.createGaussianMixture(train_feature_dict[descriptor], K_value=mixture_sizes[index]))\n",
    "\n",
    "    n_encoded_images_train = len(train_feature_dict[descriptors_desired[0]])\n",
    "        \n",
    "    train_data=[]\n",
    "    train_labels=[]\n",
    "    for i in range(n_encoded_images_train):\n",
    "        image_data = []\n",
    "        for index, descriptor in enumerate(descriptors_desired):            \n",
    "            bow_feature_vector = helpers.encodeImage_FV(train_feature_dict[descriptor][i].data, clustered_mixtures[index],gamma=0.1)\n",
    "            image_data = np.concatenate((image_data, bow_feature_vector), axis=0)\n",
    "\n",
    "        train_data.append(image_data)\n",
    "        train_labels.append(train_feature_dict[descriptors_desired[0]][i].label)\n",
    "\n",
    "    print(f'Number of encoded train images: {n_encoded_images_train}')\n",
    "    \n",
    "    # test features\n",
    "    test_feature_dict = {}\n",
    "    for descriptor in descriptors_desired:\n",
    "        with open(FILEPATTERN_DESCRIPTOR_TEST.format(descriptor),'rb') as pkl_file_test:\n",
    "            test_feature_dict[descriptor] = pickle.load(pkl_file_test)\n",
    "\n",
    "    n_encoded_images_test = len(test_feature_dict[descriptors_desired[0]])        \n",
    "    \n",
    "    test_data=[]\n",
    "    for i in range(n_encoded_images_test):\n",
    "        image_data = []\n",
    "        for index, descriptor in enumerate(descriptors_desired):\n",
    "            bow_feature_vector = helpers.encodeImage_FV(test_feature_dict[descriptor][i].data, clustered_mixtures[index],gamma=0.1)\n",
    "            image_data = np.concatenate((image_data, bow_feature_vector), axis=0)\n",
    "\n",
    "        test_data.append(image_data)\n",
    "        \n",
    "    print(f'Number of encoded test images: {n_encoded_images_test}')\n",
    "        \n",
    "    return train_data, train_labels, test_data\n",
    "\n",
    "def encode_labels(train_labels):\n",
    "    print('\\nEncoding labels ...')\n",
    "    return LabelEncoder().fit_transform(train_labels)\n",
    "\n",
    "def plot_histogram_train_labels(train_labels, n_classes):\n",
    "    # plot histogram of train labels\n",
    "    labelfreq, bins = np.histogram(train_labels, bins=range(n_classes + 1))\n",
    "    plt.figure()\n",
    "    plt.bar(range(n_classes), labelfreq)\n",
    "    plt.show()\n",
    "    print(f'Label frequencies = {labelfreq}')\n",
    "    priors = labelfreq/np.linalg.norm(labelfreq)\n",
    "    print(f'Priors = {priors}')\n",
    "    return labelfreq, priors\n",
    "\n",
    "def split_train_test_data(train_data, train_labels):\n",
    "    print('\\nSplitting train and test data ...')\n",
    "    return train_test_split(train_data, train_labels, test_size=0.25, stratify=train_labels)"
   ]
  },
  {
   "cell_type": "code",
   "execution_count": 4,
   "metadata": {},
   "outputs": [
    {
     "name": "stdout",
     "output_type": "stream",
     "text": [
      "\n",
      "Loading pkl files ...\n",
      "sift\n"
     ]
    },
    {
     "ename": "FileNotFoundError",
     "evalue": "[Errno 2] No such file or directory: './features\\\\features_train\\\\train_features_sift.pkl'",
     "output_type": "error",
     "traceback": [
      "\u001b[1;31m---------------------------------------------------------------------------\u001b[0m",
      "\u001b[1;31mFileNotFoundError\u001b[0m                         Traceback (most recent call last)",
      "\u001b[1;32m<ipython-input-4-ea4d171e0cff>\u001b[0m in \u001b[0;36m<module>\u001b[1;34m\u001b[0m\n\u001b[0;32m      5\u001b[0m \u001b[1;33m\u001b[0m\u001b[0m\n\u001b[0;32m      6\u001b[0m \u001b[1;31m#extract_features()\u001b[0m\u001b[1;33m\u001b[0m\u001b[1;33m\u001b[0m\u001b[1;33m\u001b[0m\u001b[0m\n\u001b[1;32m----> 7\u001b[1;33m \u001b[0mtrain_data\u001b[0m\u001b[1;33m,\u001b[0m \u001b[0mtrain_labels\u001b[0m\u001b[1;33m,\u001b[0m \u001b[0mtest_data\u001b[0m \u001b[1;33m=\u001b[0m \u001b[0mload_pkl_files_FV\u001b[0m\u001b[1;33m(\u001b[0m\u001b[0mdescriptors_desired\u001b[0m\u001b[1;33m,\u001b[0m \u001b[0mmixture_sizes\u001b[0m\u001b[1;33m)\u001b[0m\u001b[1;33m\u001b[0m\u001b[1;33m\u001b[0m\u001b[0m\n\u001b[0m\u001b[0;32m      8\u001b[0m \u001b[0mtrain_labels\u001b[0m \u001b[1;33m=\u001b[0m \u001b[0mencode_labels\u001b[0m\u001b[1;33m(\u001b[0m\u001b[0mtrain_labels\u001b[0m\u001b[1;33m)\u001b[0m\u001b[1;33m\u001b[0m\u001b[1;33m\u001b[0m\u001b[0m\n\u001b[0;32m      9\u001b[0m \u001b[0mlabelfreq\u001b[0m\u001b[1;33m,\u001b[0m \u001b[0mpriors\u001b[0m \u001b[1;33m=\u001b[0m \u001b[0mplot_histogram_train_labels\u001b[0m\u001b[1;33m(\u001b[0m\u001b[0mtrain_labels\u001b[0m\u001b[1;33m,\u001b[0m \u001b[0mn_classes\u001b[0m\u001b[1;33m)\u001b[0m\u001b[1;33m\u001b[0m\u001b[1;33m\u001b[0m\u001b[0m\n",
      "\u001b[1;32m<ipython-input-3-354e55c8da1e>\u001b[0m in \u001b[0;36mload_pkl_files_FV\u001b[1;34m(descriptors_desired, mixture_sizes)\u001b[0m\n\u001b[0;32m    100\u001b[0m     \u001b[1;32mfor\u001b[0m \u001b[0mindex\u001b[0m\u001b[1;33m,\u001b[0m \u001b[0mdescriptor\u001b[0m \u001b[1;32min\u001b[0m \u001b[0menumerate\u001b[0m\u001b[1;33m(\u001b[0m\u001b[0mdescriptors_desired\u001b[0m\u001b[1;33m)\u001b[0m\u001b[1;33m:\u001b[0m\u001b[1;33m\u001b[0m\u001b[1;33m\u001b[0m\u001b[0m\n\u001b[0;32m    101\u001b[0m         \u001b[0mprint\u001b[0m\u001b[1;33m(\u001b[0m\u001b[0mdescriptor\u001b[0m\u001b[1;33m)\u001b[0m\u001b[1;33m\u001b[0m\u001b[1;33m\u001b[0m\u001b[0m\n\u001b[1;32m--> 102\u001b[1;33m         \u001b[1;32mwith\u001b[0m \u001b[0mopen\u001b[0m\u001b[1;33m(\u001b[0m\u001b[0mFILEPATTERN_DESCRIPTOR_TRAIN\u001b[0m\u001b[1;33m.\u001b[0m\u001b[0mformat\u001b[0m\u001b[1;33m(\u001b[0m\u001b[0mdescriptor\u001b[0m\u001b[1;33m)\u001b[0m\u001b[1;33m,\u001b[0m\u001b[1;34m'rb'\u001b[0m\u001b[1;33m)\u001b[0m \u001b[1;32mas\u001b[0m \u001b[0mpkl_file_train\u001b[0m\u001b[1;33m:\u001b[0m\u001b[1;33m\u001b[0m\u001b[1;33m\u001b[0m\u001b[0m\n\u001b[0m\u001b[0;32m    103\u001b[0m             \u001b[0mtrain_feature_dict\u001b[0m\u001b[1;33m[\u001b[0m\u001b[0mdescriptor\u001b[0m\u001b[1;33m]\u001b[0m \u001b[1;33m=\u001b[0m \u001b[0mpickle\u001b[0m\u001b[1;33m.\u001b[0m\u001b[0mload\u001b[0m\u001b[1;33m(\u001b[0m\u001b[0mpkl_file_train\u001b[0m\u001b[1;33m)\u001b[0m\u001b[1;33m\u001b[0m\u001b[1;33m\u001b[0m\u001b[0m\n\u001b[0;32m    104\u001b[0m         \u001b[0mclustered_mixtures\u001b[0m\u001b[1;33m.\u001b[0m\u001b[0mappend\u001b[0m\u001b[1;33m(\u001b[0m\u001b[0mhelpers\u001b[0m\u001b[1;33m.\u001b[0m\u001b[0mcreateGaussianMixture\u001b[0m\u001b[1;33m(\u001b[0m\u001b[0mtrain_feature_dict\u001b[0m\u001b[1;33m[\u001b[0m\u001b[0mdescriptor\u001b[0m\u001b[1;33m]\u001b[0m\u001b[1;33m,\u001b[0m \u001b[0mK_value\u001b[0m\u001b[1;33m=\u001b[0m\u001b[0mmixture_sizes\u001b[0m\u001b[1;33m[\u001b[0m\u001b[0mindex\u001b[0m\u001b[1;33m]\u001b[0m\u001b[1;33m)\u001b[0m\u001b[1;33m)\u001b[0m\u001b[1;33m\u001b[0m\u001b[1;33m\u001b[0m\u001b[0m\n",
      "\u001b[1;31mFileNotFoundError\u001b[0m: [Errno 2] No such file or directory: './features\\\\features_train\\\\train_features_sift.pkl'"
     ]
    }
   ],
   "source": [
    "#descriptors_desired=['sift', 'surf', 'freak', 'vgg', 'boost_desc', 'daisy', 'lucid', 'orb']\n",
    "descriptors_desired=['sift', 'freak', 'boost_desc', 'daisy', 'lucid', 'orb', 'vgg']\n",
    "#codebook_sizes = [400, 400, 400, 400, 400, 400, 400, 400]\n",
    "mixture_sizes = [7,7,7,7,7,7,7]\n",
    "\n",
    "#extract_features()\n",
    "train_data, train_labels, test_data = load_pkl_files_FV(descriptors_desired, mixture_sizes)\n",
    "train_labels = encode_labels(train_labels)\n",
    "labelfreq, priors = plot_histogram_train_labels(train_labels, n_classes)\n",
    "\n",
    "#x_train, x_test, r_train, r_test = split_train_test_data(train_data, train_labels)"
   ]
  },
  {
   "cell_type": "code",
   "execution_count": 87,
   "metadata": {},
   "outputs": [],
   "source": [
    "def dump_data(train_data, train_labels, test_data):\n",
    "    print('\\nDumping data ...')\n",
    "    train_data_out = open(\"train_data_FV.pickle\", \"wb\")\n",
    "    pickle.dump(train_data, train_data_out)\n",
    "    train_labels_out = open(\"train_labels_FV.pickle\", \"wb\")\n",
    "    pickle.dump(train_labels, train_labels_out)\n",
    "    test_data_out = open(\"test_data_FV.pickle\", \"wb\")\n",
    "    pickle.dump(test_data, test_data_out)\n",
    "    \n",
    "def load_data():\n",
    "    print('\\nLoading data ...')\n",
    "    train_data_in = open(\"train_data_FV.pickle\", \"rb\")\n",
    "    train_data = pickle.load(train_data_in)\n",
    "    train_labels_in = open(\"train_labels_FV.pickle\", \"rb\")\n",
    "    train_labels = pickle.load(train_labels_in)\n",
    "    test_data_in = open(\"test_data_FV.pickle\", \"rb\")\n",
    "    test_data = pickle.load(test_data_in)\n",
    "    return train_data, train_labels, test_data"
   ]
  },
  {
   "cell_type": "code",
   "execution_count": 88,
   "metadata": {},
   "outputs": [
    {
     "name": "stdout",
     "output_type": "stream",
     "text": [
      "\n",
      "Loading data ...\n",
      "\n",
      "Splitting train and test data ...\n"
     ]
    }
   ],
   "source": [
    "#dump_data(train_data, train_labels, test_data)\n",
    "train_data, train_labels, test_data = load_data()\n",
    "#plot_histogram_train_labels(train_labels, n_classes)\n",
    "x_train, x_test, r_train, r_test = split_train_test_data(train_data, train_labels)"
   ]
  },
  {
   "cell_type": "markdown",
   "metadata": {},
   "source": [
    "## Feature Selection"
   ]
  },
  {
   "cell_type": "code",
   "execution_count": 89,
   "metadata": {},
   "outputs": [],
   "source": [
    "# pca\n",
    "def do_pca(data, labels, pca_components=None, pca_threshold=0.9):\n",
    "    print('\\nDoing PCA ...')\n",
    "    normalizer = Normalizer()\n",
    "    pca = PCA(n_components=pca_components, whiten=True)\n",
    "    pipe = Pipeline(steps=[('normalizer', normalizer),\n",
    "                           ('pca', pca)])\n",
    "    pipe.fit(data, labels)\n",
    "    \n",
    "    if pca_components == None:\n",
    "        plt.plot(np.cumsum((pca.explained_variance_ratio_)))\n",
    "        plt.axhline(y=pca_threshold, color='r', linestyle='-')\n",
    "        plt.grid()\n",
    "        plt.show()\n",
    "        pca_components = int(np.argmax(np.cumsum(pca.explained_variance_ratio_) > pca_threshold))\n",
    "        print(f'Number of PCA components = {pca_components}')\n",
    "    return pca_components\n",
    "\n",
    "def do_lda(data, labels, priors, lda_components=None):\n",
    "    lda = LinearDiscriminantAnalysis()\n",
    "    lda.fit(data, labels)\n",
    "    \n",
    "    if lda_components == None:\n",
    "        plt.plot(np.cumsum((lda.explained_variance_ratio_)))\n",
    "        plt.grid()\n",
    "        plt.show()\n",
    "        lda_components = len(lda.explained_variance_ratio_)\n",
    "        print(f'Number of LDA components = {lda_components}')\n",
    "    return lda_components"
   ]
  },
  {
   "cell_type": "code",
   "execution_count": 90,
   "metadata": {},
   "outputs": [
    {
     "name": "stdout",
     "output_type": "stream",
     "text": [
      "\n",
      "Doing PCA ...\n"
     ]
    },
    {
     "data": {
      "image/png": "[encoded data removed]",
      "text/plain": [
       "<Figure size 432x288 with 1 Axes>"
      ]
     },
     "metadata": {
      "needs_background": "light"
     },
     "output_type": "display_data"
    },
    {
     "name": "stdout",
     "output_type": "stream",
     "text": [
      "Number of PCA components = 293\n"
     ]
    }
   ],
   "source": [
    "pca_threshold = 0.6\n",
    "pca_components = None\n",
    "#lda_components = None\n",
    "\n",
    "pca_components = do_pca(x_train, r_train, pca_threshold=pca_threshold)\n",
    "#lda_components = do_lda(x_train, r_train, priors)"
   ]
  },
  {
   "cell_type": "code",
   "execution_count": 91,
   "metadata": {},
   "outputs": [
    {
     "name": "stdout",
     "output_type": "stream",
     "text": [
      "(8491,)\n"
     ]
    }
   ],
   "source": [
    "print(np.shape(x_train[0]))"
   ]
  },
  {
   "cell_type": "markdown",
   "metadata": {},
   "source": [
    "## Model"
   ]
  },
  {
   "cell_type": "code",
   "execution_count": 92,
   "metadata": {},
   "outputs": [],
   "source": [
    "from sklearn.preprocessing import PowerTransformer\n",
    "\n",
    "def create_model(train_data, train_labels, test_data, pca_components, tuned_parameters):\n",
    "    # grid search\n",
    "    # preprocessing\n",
    "    normalizer = Normalizer()\n",
    "    kernel_pca = KernelPCA(n_components=pca_components, n_jobs=-1)\n",
    "    pt = PowerTransformer()\n",
    "    \n",
    "    # create model and pipeline\n",
    "    model = SVC(kernel='linear', class_weight=\"balanced\", probability=True)\n",
    "    pipe = Pipeline(steps=[('normalizer', normalizer),\n",
    "                           ('kernel_pca', kernel_pca),\n",
    "                           ('model', model),\n",
    "                          ])\n",
    "    \n",
    "    # grid search with k-fold cross-validation\n",
    "    grid_search = GridSearchCV(pipe, tuned_parameters, scoring='neg_log_loss', iid=False, cv=5, n_jobs=-1, refit=True, verbose=10)\n",
    "    grid_search.fit(train_data, train_labels)\n",
    "    \n",
    "    print(f'Best parameters = {grid_search.best_params_}')\n",
    "    print(f'Best score = {grid_search.best_score_}')\n",
    "    \n",
    "    means = grid_search.cv_results_['mean_test_score']\n",
    "    stds = grid_search.cv_results_['std_test_score']\n",
    "    for mean, std, params in zip(means, stds, grid_search.cv_results_['params']):\n",
    "        print(f\"{mean:0.3f} (+/-{std*2:0.03f}) for {params}\")\n",
    "        \n",
    "    return grid_search.best_estimator_"
   ]
  },
  {
   "cell_type": "code",
   "execution_count": 93,
   "metadata": {
    "scrolled": true
   },
   "outputs": [
    {
     "name": "stdout",
     "output_type": "stream",
     "text": [
      "Fitting 5 folds for each of 6 candidates, totalling 30 fits\n"
     ]
    },
    {
     "name": "stderr",
     "output_type": "stream",
     "text": [
      "[Parallel(n_jobs=-1)]: Using backend LokyBackend with 8 concurrent workers.\n",
      "[Parallel(n_jobs=-1)]: Done   2 tasks      | elapsed:   34.9s\n",
      "[Parallel(n_jobs=-1)]: Done   9 tasks      | elapsed:  1.5min\n",
      "[Parallel(n_jobs=-1)]: Done  19 out of  30 | elapsed:  2.6min remaining:  1.5min\n",
      "[Parallel(n_jobs=-1)]: Done  23 out of  30 | elapsed:  3.1min remaining:   57.1s\n",
      "[Parallel(n_jobs=-1)]: Done  27 out of  30 | elapsed:  3.5min remaining:   23.1s\n",
      "[Parallel(n_jobs=-1)]: Done  30 out of  30 | elapsed:  3.6min finished\n"
     ]
    },
    {
     "name": "stdout",
     "output_type": "stream",
     "text": [
      "Best parameters = {'model__C': 2.0, 'model__kernel': 'linear'}\n",
      "Best score = -1.2694091518590316\n",
      "-1.289 (+/-0.086) for {'model__C': 1.0, 'model__kernel': 'linear'}\n",
      "-1.269 (+/-0.091) for {'model__C': 2.0, 'model__kernel': 'linear'}\n",
      "-1.271 (+/-0.089) for {'model__C': 3.0, 'model__kernel': 'linear'}\n",
      "-1.274 (+/-0.088) for {'model__C': 4.0, 'model__kernel': 'linear'}\n",
      "-1.282 (+/-0.083) for {'model__C': 5.0, 'model__kernel': 'linear'}\n",
      "-1.285 (+/-0.081) for {'model__C': 6.0, 'model__kernel': 'linear'}\n"
     ]
    }
   ],
   "source": [
    "tuned_parameters = [\n",
    "                    {'model__kernel': ['linear'],\n",
    "                     'model__C': [1.0,2.0,3.0,4.0,5.0,6.0],\n",
    "                    }\n",
    "                   ]\n",
    "\n",
    "pipe = create_model(x_train, r_train, x_test, pca_components, tuned_parameters)"
   ]
  },
  {
   "cell_type": "markdown",
   "metadata": {},
   "source": [
    "## Model Evaluation"
   ]
  },
  {
   "cell_type": "code",
   "execution_count": 99,
   "metadata": {},
   "outputs": [],
   "source": [
    "import itertools\n",
    "\n",
    "def do_predictions(pipe, test_data):\n",
    "    return pipe.predict(test_data), pipe.predict_proba(test_data)\n",
    "    \n",
    "def print_scores(pipe, train_data, train_labels, test_data, test_labels, pred_proba):\n",
    "    print(f\"logloss = {log_loss(test_labels, pred_proba):.2f}\")\n",
    "    print(f\"train   = {pipe.score(train_data, train_labels)*100:.1f} %\")\n",
    "    print(f\"test    = {pipe.score(test_data, test_labels)*100:.1f} %\")\n",
    "    # uses StratifiedKFold\n",
    "    scores = cross_val_score(pipe, x_train, r_train, cv=5)\n",
    "    print(f\"CVA     = {scores.mean()*100:.1f} %\")\n",
    "    print(f\"CVS     = {scores.std()*100:.2f} %\")\n",
    "\n",
    "def plot_learning_curve(pipe, data, labels):\n",
    "    plt.figure()\n",
    "    # uses StratifiedKFold\n",
    "    train_sizes, train_scores, test_scores = learning_curve(\n",
    "        pipe, data, labels, train_sizes=np.linspace(.1, 1.0, 5), cv=5, scoring='neg_log_loss', n_jobs=-1, verbose=10)\n",
    "    train_scores_mean = -1*np.mean(train_scores, axis=1)\n",
    "    train_scores_std = np.std(train_scores, axis=1)\n",
    "    test_scores_mean = -1*np.mean(test_scores, axis=1)\n",
    "    test_scores_std = np.std(test_scores, axis=1)\n",
    "\n",
    "    plt.grid()\n",
    "    plt.fill_between(train_sizes, train_scores_mean - train_scores_std,\n",
    "                     train_scores_mean + train_scores_std, alpha=0.1, color=\"r\")\n",
    "    plt.fill_between(train_sizes, test_scores_mean - test_scores_std,\n",
    "                     test_scores_mean + test_scores_std, alpha=0.1, color=\"g\")\n",
    "    plt.plot(train_sizes, train_scores_mean, 'o-', color=\"r\", label=\"Training score\")\n",
    "    plt.plot(train_sizes, test_scores_mean, 'o-', color=\"g\", label=\"Cross-validation score\")\n",
    "    plt.legend(loc=\"best\")\n",
    "    plt.show()\n",
    "\n",
    "def show_confusion_matrix(labels, prediction):\n",
    "    cm = confusion_matrix(labels, prediction)\n",
    "    plt.imshow(cm)\n",
    "    plt.colorbar()\n",
    "    fmt = '.0f'\n",
    "    thresh_plot = 10\n",
    "    thresh = cm.max() / 2\n",
    "    for i, j in itertools.product(range(cm.shape[0]), range(cm.shape[1])):\n",
    "        if cm[i, j] > thresh_plot:\n",
    "            plt.text(j, i, format(cm[i, j], fmt),\n",
    "                     horizontalalignment=\"center\",\n",
    "                     color=\"black\" if cm[i, j] > thresh else \"white\")\n",
    "    plt.ylabel('True label')\n",
    "    plt.xlabel('Predicted label')\n",
    "    plt.tight_layout()\n",
    "    plt.show()\n",
    "    \n",
    "def show_confusion_matrix_normalized(labels, prediction):\n",
    "    cm = confusion_matrix(labels, prediction)\n",
    "    cm = cm.astype('float') / cm.sum(axis=1)[:, np.newaxis]\n",
    "    plt.imshow(cm)\n",
    "    plt.colorbar()\n",
    "    fmt = '.2f'\n",
    "    thresh_plot = 0.1\n",
    "    thresh = cm.max() / 2\n",
    "    for i, j in itertools.product(range(cm.shape[0]), range(cm.shape[1])):\n",
    "        if cm[i, j] > thresh_plot:\n",
    "            plt.text(j, i, format(cm[i, j], fmt),\n",
    "                     horizontalalignment=\"center\",\n",
    "                     color=\"black\" if cm[i, j] > thresh else \"white\")\n",
    "    plt.ylabel('True label')\n",
    "    plt.xlabel('Predicted label')\n",
    "    plt.tight_layout()\n",
    "    plt.show()"
   ]
  },
  {
   "cell_type": "code",
   "execution_count": 100,
   "metadata": {},
   "outputs": [
    {
     "name": "stdout",
     "output_type": "stream",
     "text": [
      "logloss = 1.20\n",
      "train   = 74.3 %\n",
      "test    = 59.8 %\n",
      "CVA     = 54.7 %\n",
      "CVS     = 3.15 %\n"
     ]
    },
    {
     "data": {
      "image/png": "[encoded data removed]",
      "text/plain": [
       "<Figure size 432x288 with 2 Axes>"
      ]
     },
     "metadata": {
      "needs_background": "light"
     },
     "output_type": "display_data"
    },
    {
     "data": {
      "image/png": "[encoded data removed]",
      "text/plain": [
       "<Figure size 432x288 with 2 Axes>"
      ]
     },
     "metadata": {
      "needs_background": "light"
     },
     "output_type": "display_data"
    }
   ],
   "source": [
    "get_ipython().magic('matplotlib inline')\n",
    "\n",
    "pred, pred_proba = do_predictions(pipe, x_test)\n",
    "print_scores(pipe, x_train, r_train, x_test, r_test, pred_proba)\n",
    "#plot_learning_curve(pipe, x_train, r_train)\n",
    "show_confusion_matrix(r_test, pred)\n",
    "show_confusion_matrix_normalized(r_test, pred)"
   ]
  },
  {
   "cell_type": "markdown",
   "metadata": {},
   "source": [
    "## Submission"
   ]
  },
  {
   "cell_type": "code",
   "execution_count": 15,
   "metadata": {},
   "outputs": [],
   "source": [
    "def make_submission(pipe, train_data, train_labels, test_data, label_strings):\n",
    "    print('\\nMaking submission ...')\n",
    "    pipe.fit(train_data, train_labels)\n",
    "    predict_proba = pipe.predict_proba(test_data)\n",
    "\n",
    "    pred_file_path = os.path.join(PREDICTION_PATH, helpers.generateUniqueFilename('pred', 'csv'))\n",
    "    helpers.writePredictionsToCsv(predict_proba, pred_file_path, label_strings)"
   ]
  },
  {
   "cell_type": "code",
   "execution_count": 16,
   "metadata": {},
   "outputs": [
    {
     "name": "stdout",
     "output_type": "stream",
     "text": [
      "\n",
      "Making submission ...\n"
     ]
    }
   ],
   "source": [
    "make_submission(pipe, train_data, train_labels, test_data, label_strings)"
   ]
  },
  {
   "cell_type": "code",
   "execution_count": null,
   "metadata": {},
   "outputs": [],
   "source": []
  }
 ],
 "metadata": {
  "kernelspec": {
   "display_name": "Python 3",
   "language": "python",
   "name": "python3"
  },
  "language_info": {
   "codemirror_mode": {
    "name": "ipython",
    "version": 3
   },
   "file_extension": ".py",
   "mimetype": "text/x-python",
   "name": "python",
   "nbconvert_exporter": "python",
   "pygments_lexer": "ipython3",
   "version": "3.6.7"
  }
 },
 "nbformat": 4,
 "nbformat_minor": 2
}
